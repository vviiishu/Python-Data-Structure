{
 "cells": [
  {
   "cell_type": "code",
   "execution_count": 1,
   "id": "ed82315e-fadb-4cc0-bc93-d69c57b06438",
   "metadata": {},
   "outputs": [],
   "source": [
    "l1=[3,5,6,78,1]"
   ]
  },
  {
   "cell_type": "code",
   "execution_count": 2,
   "id": "c179416b-173d-403e-9d9a-09f451bad915",
   "metadata": {},
   "outputs": [
    {
     "data": {
      "text/plain": [
       "[3, 5, 6, 78, 1]"
      ]
     },
     "execution_count": 2,
     "metadata": {},
     "output_type": "execute_result"
    }
   ],
   "source": [
    "l1"
   ]
  },
  {
   "cell_type": "code",
   "execution_count": 3,
   "id": "614eb861-4e29-4813-b55a-f0860a426847",
   "metadata": {},
   "outputs": [
    {
     "data": {
      "text/plain": [
       "[3, 5, 6, 78, 1, 3, 5, 6, 78, 1]"
      ]
     },
     "execution_count": 3,
     "metadata": {},
     "output_type": "execute_result"
    }
   ],
   "source": [
    "l1*2"
   ]
  },
  {
   "cell_type": "code",
   "execution_count": 4,
   "id": "eaddd258-405c-41be-99d2-5eac9ed6a78e",
   "metadata": {},
   "outputs": [],
   "source": [
    "l2=[\"vishal\",5,45.65,True,2+4J]"
   ]
  },
  {
   "cell_type": "code",
   "execution_count": 5,
   "id": "bd86ee13-6e09-40b7-9b29-51431c541c37",
   "metadata": {},
   "outputs": [
    {
     "data": {
      "text/plain": [
       "['vishal', 5, 45.65, True, (2+4j)]"
      ]
     },
     "execution_count": 5,
     "metadata": {},
     "output_type": "execute_result"
    }
   ],
   "source": [
    "l2"
   ]
  },
  {
   "cell_type": "code",
   "execution_count": 6,
   "id": "20d0a245-5834-4873-8fd1-927482d77151",
   "metadata": {},
   "outputs": [
    {
     "data": {
      "text/plain": [
       "[3, 5, 6, 78, 1, 'vishal', 5, 45.65, True, (2+4j)]"
      ]
     },
     "execution_count": 6,
     "metadata": {},
     "output_type": "execute_result"
    }
   ],
   "source": [
    "l1+l2"
   ]
  },
  {
   "cell_type": "code",
   "execution_count": 7,
   "id": "b03bd87a-4ac0-40b9-acac-699ee6ce9ba9",
   "metadata": {},
   "outputs": [
    {
     "data": {
      "text/plain": [
       "True"
      ]
     },
     "execution_count": 7,
     "metadata": {},
     "output_type": "execute_result"
    }
   ],
   "source": [
    "5 in l1"
   ]
  },
  {
   "cell_type": "code",
   "execution_count": 8,
   "id": "ab78c16a-d552-4afc-944c-ece93183f957",
   "metadata": {},
   "outputs": [
    {
     "data": {
      "text/plain": [
       "False"
      ]
     },
     "execution_count": 8,
     "metadata": {},
     "output_type": "execute_result"
    }
   ],
   "source": [
    "400 in l1"
   ]
  },
  {
   "cell_type": "code",
   "execution_count": 9,
   "id": "0ee2c0a4-3723-4107-a9e0-21d786d5e29d",
   "metadata": {},
   "outputs": [
    {
     "data": {
      "text/plain": [
       "False"
      ]
     },
     "execution_count": 9,
     "metadata": {},
     "output_type": "execute_result"
    }
   ],
   "source": [
    "45 in l2"
   ]
  },
  {
   "cell_type": "code",
   "execution_count": 10,
   "id": "7361c823-c61d-4ba4-9c57-bab3b6a545bc",
   "metadata": {},
   "outputs": [
    {
     "data": {
      "text/plain": [
       "['vishal', 5, 45.65, True, (2+4j)]"
      ]
     },
     "execution_count": 10,
     "metadata": {},
     "output_type": "execute_result"
    }
   ],
   "source": [
    "l2"
   ]
  },
  {
   "cell_type": "code",
   "execution_count": 11,
   "id": "3d42042f-84ae-4974-bac3-0aa46aa75400",
   "metadata": {},
   "outputs": [
    {
     "data": {
      "text/plain": [
       "True"
      ]
     },
     "execution_count": 11,
     "metadata": {},
     "output_type": "execute_result"
    }
   ],
   "source": [
    "2+4j in l2"
   ]
  },
  {
   "cell_type": "code",
   "execution_count": 12,
   "id": "c65b7aaa-1e3e-400c-b635-0b6bef2e26e1",
   "metadata": {},
   "outputs": [
    {
     "ename": "AttributeError",
     "evalue": "'list' object has no attribute 'max'",
     "output_type": "error",
     "traceback": [
      "\u001b[0;31m---------------------------------------------------------------------------\u001b[0m",
      "\u001b[0;31mAttributeError\u001b[0m                            Traceback (most recent call last)",
      "Cell \u001b[0;32mIn[12], line 1\u001b[0m\n\u001b[0;32m----> 1\u001b[0m \u001b[43ml1\u001b[49m\u001b[38;5;241;43m.\u001b[39;49m\u001b[43mmax\u001b[49m()\n",
      "\u001b[0;31mAttributeError\u001b[0m: 'list' object has no attribute 'max'"
     ]
    }
   ],
   "source": [
    "l1.max()"
   ]
  },
  {
   "cell_type": "code",
   "execution_count": 13,
   "id": "a01186ab-2514-4904-812c-b4e17599a798",
   "metadata": {},
   "outputs": [
    {
     "data": {
      "text/plain": [
       "78"
      ]
     },
     "execution_count": 13,
     "metadata": {},
     "output_type": "execute_result"
    }
   ],
   "source": [
    "max(l1)"
   ]
  },
  {
   "cell_type": "code",
   "execution_count": 14,
   "id": "1ba204d9-1102-45a9-aae5-d1e4d728d95d",
   "metadata": {},
   "outputs": [
    {
     "ename": "TypeError",
     "evalue": "'>' not supported between instances of 'int' and 'str'",
     "output_type": "error",
     "traceback": [
      "\u001b[0;31m---------------------------------------------------------------------------\u001b[0m",
      "\u001b[0;31mTypeError\u001b[0m                                 Traceback (most recent call last)",
      "Cell \u001b[0;32mIn[14], line 1\u001b[0m\n\u001b[0;32m----> 1\u001b[0m \u001b[38;5;28;43mmax\u001b[39;49m\u001b[43m(\u001b[49m\u001b[43ml2\u001b[49m\u001b[43m)\u001b[49m\n",
      "\u001b[0;31mTypeError\u001b[0m: '>' not supported between instances of 'int' and 'str'"
     ]
    }
   ],
   "source": [
    "max(l2)"
   ]
  },
  {
   "cell_type": "code",
   "execution_count": 15,
   "id": "bf593763-5b72-440c-81c6-a5fa7ee9665a",
   "metadata": {},
   "outputs": [],
   "source": [
    "l3=[\"ram\",\"shyam\",\"tilu\",\"puki\"]"
   ]
  },
  {
   "cell_type": "code",
   "execution_count": 16,
   "id": "3571a884-7537-43b6-a8af-c7e20c4c532a",
   "metadata": {},
   "outputs": [
    {
     "data": {
      "text/plain": [
       "['ram', 'shyam', 'tilu', 'puki']"
      ]
     },
     "execution_count": 16,
     "metadata": {},
     "output_type": "execute_result"
    }
   ],
   "source": [
    "l3"
   ]
  },
  {
   "cell_type": "markdown",
   "id": "9110ced0-6496-4213-af76-150cb44ef883",
   "metadata": {},
   "source": [
    "max(l3)"
   ]
  },
  {
   "cell_type": "code",
   "execution_count": 17,
   "id": "a6078311-dcb5-4902-a66a-2dfb5cb92b9b",
   "metadata": {},
   "outputs": [
    {
     "data": {
      "text/plain": [
       "'puki'"
      ]
     },
     "execution_count": 17,
     "metadata": {},
     "output_type": "execute_result"
    }
   ],
   "source": [
    "min(l3)"
   ]
  },
  {
   "cell_type": "code",
   "execution_count": 18,
   "id": "1d9e96a1-f63f-44cb-bfb9-53b20a503161",
   "metadata": {},
   "outputs": [],
   "source": [
    "l1.append(500)"
   ]
  },
  {
   "cell_type": "code",
   "execution_count": 19,
   "id": "17620390-7f24-470f-bf43-5364f52e4160",
   "metadata": {},
   "outputs": [
    {
     "data": {
      "text/plain": [
       "[3, 5, 6, 78, 1, 500]"
      ]
     },
     "execution_count": 19,
     "metadata": {},
     "output_type": "execute_result"
    }
   ],
   "source": [
    "l1"
   ]
  },
  {
   "cell_type": "code",
   "execution_count": 20,
   "id": "ad9d39ef-2d34-45bb-a500-b57c2092e6dc",
   "metadata": {},
   "outputs": [],
   "source": [
    "l1.insert(2,900)"
   ]
  },
  {
   "cell_type": "code",
   "execution_count": 21,
   "id": "4020cb6f-601f-486e-9621-844b9a1281bf",
   "metadata": {},
   "outputs": [
    {
     "data": {
      "text/plain": [
       "[3, 5, 900, 6, 78, 1, 500]"
      ]
     },
     "execution_count": 21,
     "metadata": {},
     "output_type": "execute_result"
    }
   ],
   "source": [
    "l1"
   ]
  },
  {
   "cell_type": "code",
   "execution_count": 22,
   "id": "47ccf35b-15e1-4975-9087-701e67aa61b7",
   "metadata": {},
   "outputs": [
    {
     "data": {
      "text/plain": [
       "500"
      ]
     },
     "execution_count": 22,
     "metadata": {},
     "output_type": "execute_result"
    }
   ],
   "source": [
    "l1.pop()"
   ]
  },
  {
   "cell_type": "code",
   "execution_count": 23,
   "id": "b52bc081-9ba3-4f89-bfe3-98f241bac43c",
   "metadata": {},
   "outputs": [
    {
     "data": {
      "text/plain": [
       "[3, 5, 900, 6, 78, 1]"
      ]
     },
     "execution_count": 23,
     "metadata": {},
     "output_type": "execute_result"
    }
   ],
   "source": [
    "l1"
   ]
  },
  {
   "cell_type": "code",
   "execution_count": 24,
   "id": "1b3cc38c-fd11-4778-af11-bb4a65aff84c",
   "metadata": {},
   "outputs": [
    {
     "data": {
      "text/plain": [
       "[1, 78, 6, 900, 5, 3]"
      ]
     },
     "execution_count": 24,
     "metadata": {},
     "output_type": "execute_result"
    }
   ],
   "source": [
    "l1[::-1]"
   ]
  },
  {
   "cell_type": "code",
   "execution_count": 26,
   "id": "dbebd411-8841-42c3-a84d-c7b69b812330",
   "metadata": {},
   "outputs": [],
   "source": [
    "l1.reverse()   #permanent reverse"
   ]
  },
  {
   "cell_type": "code",
   "execution_count": 27,
   "id": "b6007487-58a6-4643-ba09-0da0f20a8e33",
   "metadata": {},
   "outputs": [
    {
     "data": {
      "text/plain": [
       "[3, 5, 900, 6, 78, 1]"
      ]
     },
     "execution_count": 27,
     "metadata": {},
     "output_type": "execute_result"
    }
   ],
   "source": [
    "l1"
   ]
  },
  {
   "cell_type": "code",
   "execution_count": 28,
   "id": "8b4113be-0a3f-4c77-a6be-bd27baa68789",
   "metadata": {},
   "outputs": [
    {
     "data": {
      "text/plain": [
       "[3, 5, 900, 6, 78, 1]"
      ]
     },
     "execution_count": 28,
     "metadata": {},
     "output_type": "execute_result"
    }
   ],
   "source": [
    "l1"
   ]
  },
  {
   "cell_type": "code",
   "execution_count": 30,
   "id": "3bb03af6-3291-40ab-ac8b-5f7f7946ebe2",
   "metadata": {},
   "outputs": [],
   "source": [
    "l1.sort()"
   ]
  },
  {
   "cell_type": "code",
   "execution_count": 31,
   "id": "87f8f62b-9271-4092-be0a-00894bb3ef69",
   "metadata": {},
   "outputs": [
    {
     "data": {
      "text/plain": [
       "[1, 3, 5, 6, 78, 900]"
      ]
     },
     "execution_count": 31,
     "metadata": {},
     "output_type": "execute_result"
    }
   ],
   "source": [
    "l1"
   ]
  },
  {
   "cell_type": "code",
   "execution_count": 32,
   "id": "8cbd7f3b-f583-4ff0-828f-046b677c4330",
   "metadata": {},
   "outputs": [
    {
     "data": {
      "text/plain": [
       "[1, 3, 5, 6, 78, 900]"
      ]
     },
     "execution_count": 32,
     "metadata": {},
     "output_type": "execute_result"
    }
   ],
   "source": [
    "l1"
   ]
  },
  {
   "cell_type": "code",
   "execution_count": 33,
   "id": "246142a4-15cc-4298-b7a2-cd80b4270433",
   "metadata": {},
   "outputs": [],
   "source": [
    "l1.sort(reverse=True)"
   ]
  },
  {
   "cell_type": "code",
   "execution_count": 34,
   "id": "c6fa4dca-2415-4280-ad7d-a31bf83a2c2e",
   "metadata": {},
   "outputs": [
    {
     "data": {
      "text/plain": [
       "[900, 78, 6, 5, 3, 1]"
      ]
     },
     "execution_count": 34,
     "metadata": {},
     "output_type": "execute_result"
    }
   ],
   "source": [
    "l1"
   ]
  },
  {
   "cell_type": "code",
   "execution_count": 35,
   "id": "34d976e0-7277-4d4d-b294-30fee18524fa",
   "metadata": {},
   "outputs": [],
   "source": [
    "l3=[l1,l2]"
   ]
  },
  {
   "cell_type": "code",
   "execution_count": 36,
   "id": "93931d98-09c5-461b-b41d-2ce81ec32579",
   "metadata": {},
   "outputs": [
    {
     "data": {
      "text/plain": [
       "[[900, 78, 6, 5, 3, 1], ['vishal', 5, 45.65, True, (2+4j)]]"
      ]
     },
     "execution_count": 36,
     "metadata": {},
     "output_type": "execute_result"
    }
   ],
   "source": [
    "l3"
   ]
  },
  {
   "cell_type": "code",
   "execution_count": 37,
   "id": "dfbcc5f3-eed7-43f8-8787-aabb44c2f60e",
   "metadata": {},
   "outputs": [
    {
     "data": {
      "text/plain": [
       "['vishal', 5, 45.65, True, (2+4j)]"
      ]
     },
     "execution_count": 37,
     "metadata": {},
     "output_type": "execute_result"
    }
   ],
   "source": [
    "l3[1]"
   ]
  },
  {
   "cell_type": "code",
   "execution_count": 38,
   "id": "cc4f3c9a-9f28-479d-aee3-6fc7bfadb394",
   "metadata": {},
   "outputs": [
    {
     "ename": "IndexError",
     "evalue": "list index out of range",
     "output_type": "error",
     "traceback": [
      "\u001b[0;31m---------------------------------------------------------------------------\u001b[0m",
      "\u001b[0;31mIndexError\u001b[0m                                Traceback (most recent call last)",
      "Cell \u001b[0;32mIn[38], line 1\u001b[0m\n\u001b[0;32m----> 1\u001b[0m \u001b[43ml3\u001b[49m\u001b[43m[\u001b[49m\u001b[38;5;241;43m6\u001b[39;49m\u001b[43m]\u001b[49m\n",
      "\u001b[0;31mIndexError\u001b[0m: list index out of range"
     ]
    }
   ],
   "source": [
    "l3[6]"
   ]
  },
  {
   "cell_type": "code",
   "execution_count": 39,
   "id": "1dc51e14-a406-49fa-9228-c1e8130e671b",
   "metadata": {},
   "outputs": [],
   "source": [
    "l3[1]=\"mohan\""
   ]
  },
  {
   "cell_type": "code",
   "execution_count": 40,
   "id": "e112c383-c316-4646-9646-83209274a7df",
   "metadata": {},
   "outputs": [
    {
     "data": {
      "text/plain": [
       "[[900, 78, 6, 5, 3, 1], 'mohan']"
      ]
     },
     "execution_count": 40,
     "metadata": {},
     "output_type": "execute_result"
    }
   ],
   "source": [
    "l3"
   ]
  },
  {
   "cell_type": "code",
   "execution_count": 41,
   "id": "f6e872de-bf46-47f9-8143-700a8c408c4b",
   "metadata": {},
   "outputs": [],
   "source": [
    "l4=[l1,l2,l3,505,98.01]"
   ]
  },
  {
   "cell_type": "code",
   "execution_count": 42,
   "id": "20dd0e12-967a-47b8-b78b-61a658e0fcd3",
   "metadata": {},
   "outputs": [
    {
     "data": {
      "text/plain": [
       "[[900, 78, 6, 5, 3, 1],\n",
       " ['vishal', 5, 45.65, True, (2+4j)],\n",
       " [[900, 78, 6, 5, 3, 1], 'mohan'],\n",
       " 505,\n",
       " 98.01]"
      ]
     },
     "execution_count": 42,
     "metadata": {},
     "output_type": "execute_result"
    }
   ],
   "source": [
    "l4"
   ]
  },
  {
   "cell_type": "code",
   "execution_count": 43,
   "id": "c27bcaad-d345-4daa-9b17-13eaaf4977eb",
   "metadata": {},
   "outputs": [
    {
     "data": {
      "text/plain": [
       "['vishal', 5, 45.65, True, (2+4j)]"
      ]
     },
     "execution_count": 43,
     "metadata": {},
     "output_type": "execute_result"
    }
   ],
   "source": [
    "l4[1]"
   ]
  },
  {
   "cell_type": "code",
   "execution_count": 44,
   "id": "6b4d1dbf-7ad7-4654-867f-b4176d1f8dcc",
   "metadata": {},
   "outputs": [
    {
     "data": {
      "text/plain": [
       "True"
      ]
     },
     "execution_count": 44,
     "metadata": {},
     "output_type": "execute_result"
    }
   ],
   "source": [
    "l4[1][3]"
   ]
  },
  {
   "cell_type": "code",
   "execution_count": 45,
   "id": "9cb00449-07c8-4261-bedd-a68cd87d8db8",
   "metadata": {},
   "outputs": [
    {
     "data": {
      "text/plain": [
       "505"
      ]
     },
     "execution_count": 45,
     "metadata": {},
     "output_type": "execute_result"
    }
   ],
   "source": [
    "l4[3]"
   ]
  },
  {
   "cell_type": "code",
   "execution_count": 46,
   "id": "09254183-a9ba-419b-a4f2-f4e5813fc3d9",
   "metadata": {},
   "outputs": [
    {
     "data": {
      "text/plain": [
       "(2+4j)"
      ]
     },
     "execution_count": 46,
     "metadata": {},
     "output_type": "execute_result"
    }
   ],
   "source": [
    "l4[1][4]"
   ]
  }
 ],
 "metadata": {
  "kernelspec": {
   "display_name": "Python 3 (ipykernel)",
   "language": "python",
   "name": "python3"
  },
  "language_info": {
   "codemirror_mode": {
    "name": "ipython",
    "version": 3
   },
   "file_extension": ".py",
   "mimetype": "text/x-python",
   "name": "python",
   "nbconvert_exporter": "python",
   "pygments_lexer": "ipython3",
   "version": "3.10.8"
  }
 },
 "nbformat": 4,
 "nbformat_minor": 5
}
