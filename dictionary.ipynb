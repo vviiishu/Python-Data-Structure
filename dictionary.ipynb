{
 "cells": [
  {
   "cell_type": "code",
   "execution_count": 1,
   "id": "d45bbe1e-1d3a-4067-af27-233653d1cd32",
   "metadata": {},
   "outputs": [],
   "source": [
    "d={}"
   ]
  },
  {
   "cell_type": "code",
   "execution_count": 2,
   "id": "04abd8c9-0a69-481f-8dbf-459e1f889e01",
   "metadata": {},
   "outputs": [
    {
     "data": {
      "text/plain": [
       "dict"
      ]
     },
     "execution_count": 2,
     "metadata": {},
     "output_type": "execute_result"
    }
   ],
   "source": [
    "type(d)"
   ]
  },
  {
   "cell_type": "code",
   "execution_count": 28,
   "id": "54481ab6-6bb2-4086-b7e7-44e58b2b0c3b",
   "metadata": {},
   "outputs": [],
   "source": [
    "d={\"name\":\"pwskills\",\"emailid\":\"pwskill@gmail.com\",\"subject\":[\"dsm\",\"programing\",\"python basic\"],\n",
    "   \"date\":{\"dsm\": \"29 july\",\"programing\":\"10 april\",\"python\":\"12 jan\"},\"batches\":(\"alha\",\"beta\",\"gama\"),\n",
    "   \"mentors\":{\"sudh\",\"abdul bari\",\"love babbar\",\"sudh\"}}"
   ]
  },
  {
   "cell_type": "code",
   "execution_count": 4,
   "id": "2b9a4354-98e6-4428-bd24-83aeb043d9c0",
   "metadata": {},
   "outputs": [
    {
     "data": {
      "text/plain": [
       "{'name': 'pwskills',\n",
       " 'emailid': 'pwskill@gmail.com',\n",
       " 'subject': ['dsm', 'programing', 'python basic'],\n",
       " 'date': {'dsm': '29 july', 'programing': '10 april', 'python': '12 jan'},\n",
       " 'batches': ('alha', 'beta', 'gama'),\n",
       " 'mentors': {'abdul bari', 'love babbar', 'sudh'}}"
      ]
     },
     "execution_count": 4,
     "metadata": {},
     "output_type": "execute_result"
    }
   ],
   "source": [
    "d"
   ]
  },
  {
   "cell_type": "code",
   "execution_count": 5,
   "id": "4cd918a3-67ec-4616-bdc9-63246e8210f6",
   "metadata": {},
   "outputs": [
    {
     "data": {
      "text/plain": [
       "'pwskills'"
      ]
     },
     "execution_count": 5,
     "metadata": {},
     "output_type": "execute_result"
    }
   ],
   "source": [
    "d[\"name\"]"
   ]
  },
  {
   "cell_type": "code",
   "execution_count": 6,
   "id": "69a2afef-335e-400e-acb6-4cd5cf22a2fc",
   "metadata": {},
   "outputs": [
    {
     "data": {
      "text/plain": [
       "['dsm', 'programing', 'python basic']"
      ]
     },
     "execution_count": 6,
     "metadata": {},
     "output_type": "execute_result"
    }
   ],
   "source": [
    "d[\"subject\"]"
   ]
  },
  {
   "cell_type": "code",
   "execution_count": 7,
   "id": "8c96c7f3-4dcc-4a65-9a00-79752de32c86",
   "metadata": {},
   "outputs": [
    {
     "data": {
      "text/plain": [
       "'programing'"
      ]
     },
     "execution_count": 7,
     "metadata": {},
     "output_type": "execute_result"
    }
   ],
   "source": [
    "d[\"subject\"][1]"
   ]
  },
  {
   "cell_type": "code",
   "execution_count": 8,
   "id": "c12a17b1-cce3-44c6-bc6a-dc83b36be5de",
   "metadata": {},
   "outputs": [
    {
     "data": {
      "text/plain": [
       "'29 july'"
      ]
     },
     "execution_count": 8,
     "metadata": {},
     "output_type": "execute_result"
    }
   ],
   "source": [
    "d[\"date\"][\"dsm\"]"
   ]
  },
  {
   "cell_type": "code",
   "execution_count": 10,
   "id": "a8da1e17-804d-4b78-9a68-731b829c4c16",
   "metadata": {},
   "outputs": [
    {
     "ename": "AttributeError",
     "evalue": "'dict' object has no attribute 'key'",
     "output_type": "error",
     "traceback": [
      "\u001b[0;31m---------------------------------------------------------------------------\u001b[0m",
      "\u001b[0;31mAttributeError\u001b[0m                            Traceback (most recent call last)",
      "Cell \u001b[0;32mIn[10], line 1\u001b[0m\n\u001b[0;32m----> 1\u001b[0m \u001b[43md\u001b[49m\u001b[38;5;241;43m.\u001b[39;49m\u001b[43mkey\u001b[49m()\n",
      "\u001b[0;31mAttributeError\u001b[0m: 'dict' object has no attribute 'key'"
     ]
    }
   ],
   "source": [
    "d.key()"
   ]
  },
  {
   "cell_type": "code",
   "execution_count": 11,
   "id": "91a2de0a-7c77-44d5-924a-d64324dfbd95",
   "metadata": {},
   "outputs": [
    {
     "data": {
      "text/plain": [
       "dict_items([('name', 'pwskills'), ('emailid', 'pwskill@gmail.com'), ('subject', ['dsm', 'programing', 'python basic']), ('date', {'dsm': '29 july', 'programing': '10 april', 'python': '12 jan'}), ('batches', ('alha', 'beta', 'gama')), ('mentors', {'sudh', 'abdul bari', 'love babbar'})])"
      ]
     },
     "execution_count": 11,
     "metadata": {},
     "output_type": "execute_result"
    }
   ],
   "source": [
    "d.items()"
   ]
  },
  {
   "cell_type": "code",
   "execution_count": 12,
   "id": "e47ad734-b4b0-4409-8adf-4631fdbd5c31",
   "metadata": {},
   "outputs": [
    {
     "data": {
      "text/plain": [
       "[('name', 'pwskills'),\n",
       " ('emailid', 'pwskill@gmail.com'),\n",
       " ('subject', ['dsm', 'programing', 'python basic']),\n",
       " ('date', {'dsm': '29 july', 'programing': '10 april', 'python': '12 jan'}),\n",
       " ('batches', ('alha', 'beta', 'gama')),\n",
       " ('mentors', {'abdul bari', 'love babbar', 'sudh'})]"
      ]
     },
     "execution_count": 12,
     "metadata": {},
     "output_type": "execute_result"
    }
   ],
   "source": [
    "list(d.items())"
   ]
  },
  {
   "cell_type": "code",
   "execution_count": 13,
   "id": "41b00e0a-a230-47f1-8758-15b67ddc61a9",
   "metadata": {},
   "outputs": [
    {
     "data": {
      "text/plain": [
       "dict_keys(['name', 'emailid', 'subject', 'date', 'batches', 'mentors'])"
      ]
     },
     "execution_count": 13,
     "metadata": {},
     "output_type": "execute_result"
    }
   ],
   "source": [
    "d.keys()"
   ]
  },
  {
   "cell_type": "code",
   "execution_count": 15,
   "id": "fc440d34-1518-4888-a5c7-e3da42c15e97",
   "metadata": {},
   "outputs": [
    {
     "data": {
      "text/plain": [
       "['name', 'emailid', 'subject', 'date', 'batches', 'mentors']"
      ]
     },
     "execution_count": 15,
     "metadata": {},
     "output_type": "execute_result"
    }
   ],
   "source": [
    "list(d.keys())"
   ]
  },
  {
   "cell_type": "code",
   "execution_count": 16,
   "id": "8fe8e948-d584-434e-a145-e5e201ad1a11",
   "metadata": {},
   "outputs": [
    {
     "data": {
      "text/plain": [
       "dict_values(['pwskills', 'pwskill@gmail.com', ['dsm', 'programing', 'python basic'], {'dsm': '29 july', 'programing': '10 april', 'python': '12 jan'}, ('alha', 'beta', 'gama'), {'sudh', 'abdul bari', 'love babbar'}])"
      ]
     },
     "execution_count": 16,
     "metadata": {},
     "output_type": "execute_result"
    }
   ],
   "source": [
    "d.values()"
   ]
  },
  {
   "cell_type": "code",
   "execution_count": 17,
   "id": "77df262b-7f14-4604-ba74-67044c548168",
   "metadata": {},
   "outputs": [
    {
     "data": {
      "text/plain": [
       "['pwskills',\n",
       " 'pwskill@gmail.com',\n",
       " ['dsm', 'programing', 'python basic'],\n",
       " {'dsm': '29 july', 'programing': '10 april', 'python': '12 jan'},\n",
       " ('alha', 'beta', 'gama'),\n",
       " {'abdul bari', 'love babbar', 'sudh'}]"
      ]
     },
     "execution_count": 17,
     "metadata": {},
     "output_type": "execute_result"
    }
   ],
   "source": [
    "list(d.values())"
   ]
  },
  {
   "cell_type": "code",
   "execution_count": 18,
   "id": "8aff2916-b736-4af5-95e6-9c8f3a24029c",
   "metadata": {},
   "outputs": [
    {
     "data": {
      "text/plain": [
       "{'name': 'pwskills',\n",
       " 'emailid': 'pwskill@gmail.com',\n",
       " 'subject': ['dsm', 'programing', 'python basic'],\n",
       " 'date': {'dsm': '29 july', 'programing': '10 april', 'python': '12 jan'},\n",
       " 'batches': ('alha', 'beta', 'gama'),\n",
       " 'mentors': {'abdul bari', 'love babbar', 'sudh'}}"
      ]
     },
     "execution_count": 18,
     "metadata": {},
     "output_type": "execute_result"
    }
   ],
   "source": [
    "d"
   ]
  },
  {
   "cell_type": "code",
   "execution_count": 19,
   "id": "7ffd44b3-6325-4f9b-a9ec-df6ffc5969d7",
   "metadata": {},
   "outputs": [],
   "source": [
    "d[\"subject\"][2]=\"cpp\""
   ]
  },
  {
   "cell_type": "code",
   "execution_count": 20,
   "id": "e958717c-089d-4a97-9817-365d37959d56",
   "metadata": {},
   "outputs": [
    {
     "data": {
      "text/plain": [
       "{'name': 'pwskills',\n",
       " 'emailid': 'pwskill@gmail.com',\n",
       " 'subject': ['dsm', 'programing', 'cpp'],\n",
       " 'date': {'dsm': '29 july', 'programing': '10 april', 'python': '12 jan'},\n",
       " 'batches': ('alha', 'beta', 'gama'),\n",
       " 'mentors': {'abdul bari', 'love babbar', 'sudh'}}"
      ]
     },
     "execution_count": 20,
     "metadata": {},
     "output_type": "execute_result"
    }
   ],
   "source": [
    "d"
   ]
  },
  {
   "cell_type": "code",
   "execution_count": 21,
   "id": "8ba254a5-b34e-4fd5-b1d5-648ef3be6b46",
   "metadata": {},
   "outputs": [],
   "source": [
    "d[\"emailid\"]=\"ram@gmail.com\""
   ]
  },
  {
   "cell_type": "code",
   "execution_count": 22,
   "id": "234d4a9b-987d-4657-9af6-fde1ec6330af",
   "metadata": {},
   "outputs": [
    {
     "data": {
      "text/plain": [
       "{'name': 'pwskills',\n",
       " 'emailid': 'ram@gmail.com',\n",
       " 'subject': ['dsm', 'programing', 'cpp'],\n",
       " 'date': {'dsm': '29 july', 'programing': '10 april', 'python': '12 jan'},\n",
       " 'batches': ('alha', 'beta', 'gama'),\n",
       " 'mentors': {'abdul bari', 'love babbar', 'sudh'}}"
      ]
     },
     "execution_count": 22,
     "metadata": {},
     "output_type": "execute_result"
    }
   ],
   "source": [
    "d"
   ]
  },
  {
   "cell_type": "code",
   "execution_count": 23,
   "id": "8dbd7935-aedc-4d46-9281-78825549aa14",
   "metadata": {},
   "outputs": [],
   "source": [
    "del d[\"emailid\"]"
   ]
  },
  {
   "cell_type": "code",
   "execution_count": 29,
   "id": "25d6f723-319a-45bd-882d-4542201d57ce",
   "metadata": {},
   "outputs": [
    {
     "data": {
      "text/plain": [
       "{'name': 'pwskills',\n",
       " 'emailid': 'pwskill@gmail.com',\n",
       " 'subject': ['dsm', 'programing', 'python basic'],\n",
       " 'date': {'dsm': '29 july', 'programing': '10 april', 'python': '12 jan'},\n",
       " 'batches': ('alha', 'beta', 'gama'),\n",
       " 'mentors': {'abdul bari', 'love babbar', 'sudh'}}"
      ]
     },
     "execution_count": 29,
     "metadata": {},
     "output_type": "execute_result"
    }
   ],
   "source": [
    "d"
   ]
  },
  {
   "cell_type": "code",
   "execution_count": 30,
   "id": "f8d47f84-5272-4a42-9625-8249425a92a0",
   "metadata": {},
   "outputs": [
    {
     "data": {
      "text/plain": [
       "{'name': 'pwskills',\n",
       " 'emailid': 'pwskill@gmail.com',\n",
       " 'subject': ['dsm', 'programing', 'python basic'],\n",
       " 'date': {'dsm': '29 july', 'programing': '10 april', 'python': '12 jan'},\n",
       " 'batches': ('alha', 'beta', 'gama'),\n",
       " 'mentors': {'abdul bari', 'love babbar', 'sudh'}}"
      ]
     },
     "execution_count": 30,
     "metadata": {},
     "output_type": "execute_result"
    }
   ],
   "source": [
    "d"
   ]
  },
  {
   "cell_type": "code",
   "execution_count": 31,
   "id": "866818ee-7376-497a-b1e1-ae449a1709d4",
   "metadata": {},
   "outputs": [
    {
     "name": "stdout",
     "output_type": "stream",
     "text": [
      "('name', 'pwskills')\n",
      "('emailid', 'pwskill@gmail.com')\n",
      "('subject', ['dsm', 'programing', 'python basic'])\n",
      "('date', {'dsm': '29 july', 'programing': '10 april', 'python': '12 jan'})\n",
      "('batches', ('alha', 'beta', 'gama'))\n",
      "('mentors', {'sudh', 'abdul bari', 'love babbar'})\n"
     ]
    }
   ],
   "source": [
    "for i in d.items():\n",
    "    print(i)"
   ]
  },
  {
   "cell_type": "code",
   "execution_count": 32,
   "id": "2b9e3217-173a-4059-b6a7-eca3fba24a05",
   "metadata": {},
   "outputs": [
    {
     "data": {
      "text/plain": [
       "dict_items([('name', 'pwskills'), ('emailid', 'pwskill@gmail.com'), ('subject', ['dsm', 'programing', 'python basic']), ('date', {'dsm': '29 july', 'programing': '10 april', 'python': '12 jan'}), ('batches', ('alha', 'beta', 'gama')), ('mentors', {'sudh', 'abdul bari', 'love babbar'})])"
      ]
     },
     "execution_count": 32,
     "metadata": {},
     "output_type": "execute_result"
    }
   ],
   "source": [
    "d.items()"
   ]
  },
  {
   "cell_type": "code",
   "execution_count": 33,
   "id": "ae602294-aba9-41da-a028-c21b44872586",
   "metadata": {},
   "outputs": [
    {
     "name": "stdout",
     "output_type": "stream",
     "text": [
      "pwskills\n",
      "pwskill@gmail.com\n",
      "['dsm', 'programing', 'python basic']\n",
      "{'dsm': '29 july', 'programing': '10 april', 'python': '12 jan'}\n",
      "('alha', 'beta', 'gama')\n",
      "{'sudh', 'abdul bari', 'love babbar'}\n"
     ]
    }
   ],
   "source": [
    "for i in d.values():\n",
    "    print(i)"
   ]
  },
  {
   "cell_type": "code",
   "execution_count": 34,
   "id": "eadf9fa8-cbfc-4c08-963e-cf6db364a363",
   "metadata": {},
   "outputs": [
    {
     "name": "stdout",
     "output_type": "stream",
     "text": [
      "name\n",
      "emailid\n",
      "subject\n",
      "date\n",
      "batches\n",
      "mentors\n"
     ]
    }
   ],
   "source": [
    "for i in d.keys():\n",
    "    print(i)"
   ]
  },
  {
   "cell_type": "code",
   "execution_count": 36,
   "id": "c1c15e99-2ead-4e4b-8076-0112dae561fb",
   "metadata": {},
   "outputs": [
    {
     "name": "stdout",
     "output_type": "stream",
     "text": [
      "['dsm', 'programing', 'python basic']\n"
     ]
    }
   ],
   "source": [
    "for i in d.values():\n",
    "    if type(i)==list:\n",
    "        print(i)"
   ]
  },
  {
   "cell_type": "code",
   "execution_count": 37,
   "id": "b0fbd7f8-f840-45e7-b36e-68d6822a53fc",
   "metadata": {},
   "outputs": [
    {
     "name": "stdout",
     "output_type": "stream",
     "text": [
      "{'dsm': '29 july', 'programing': '10 april', 'python': '12 jan'}\n"
     ]
    }
   ],
   "source": [
    "for i in d.values():\n",
    "    if type(i)==dict:\n",
    "        print(i)"
   ]
  }
 ],
 "metadata": {
  "kernelspec": {
   "display_name": "Python 3 (ipykernel)",
   "language": "python",
   "name": "python3"
  },
  "language_info": {
   "codemirror_mode": {
    "name": "ipython",
    "version": 3
   },
   "file_extension": ".py",
   "mimetype": "text/x-python",
   "name": "python",
   "nbconvert_exporter": "python",
   "pygments_lexer": "ipython3",
   "version": "3.10.8"
  }
 },
 "nbformat": 4,
 "nbformat_minor": 5
}
