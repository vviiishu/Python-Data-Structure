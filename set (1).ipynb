{
 "cells": [
  {
   "cell_type": "code",
   "execution_count": 1,
   "id": "ada04c38-d3ef-47af-a243-613b93ebd446",
   "metadata": {},
   "outputs": [],
   "source": [
    "s1={}"
   ]
  },
  {
   "cell_type": "code",
   "execution_count": 3,
   "id": "87fbb45a-ce97-4fde-a9ef-d21522e7f51e",
   "metadata": {},
   "outputs": [
    {
     "data": {
      "text/plain": [
       "dict"
      ]
     },
     "execution_count": 3,
     "metadata": {},
     "output_type": "execute_result"
    }
   ],
   "source": [
    "type(s1)"
   ]
  },
  {
   "cell_type": "code",
   "execution_count": 5,
   "id": "98b14f45-9a42-4f71-92a0-f9a7bff4e063",
   "metadata": {},
   "outputs": [],
   "source": [
    "s1={2,3,2,2,3,3,3,\"vishal\",5,5,6,3,\"vishal\"}"
   ]
  },
  {
   "cell_type": "code",
   "execution_count": 6,
   "id": "d2573927-69fb-4179-93a5-b2e3472035a2",
   "metadata": {},
   "outputs": [
    {
     "data": {
      "text/plain": [
       "{2, 3, 5, 6, 'vishal'}"
      ]
     },
     "execution_count": 6,
     "metadata": {},
     "output_type": "execute_result"
    }
   ],
   "source": [
    "s1"
   ]
  },
  {
   "cell_type": "code",
   "execution_count": 7,
   "id": "b99569db-1615-4a08-b149-9beaf1aaa1de",
   "metadata": {},
   "outputs": [
    {
     "data": {
      "text/plain": [
       "set"
      ]
     },
     "execution_count": 7,
     "metadata": {},
     "output_type": "execute_result"
    }
   ],
   "source": [
    "type(s1)"
   ]
  },
  {
   "cell_type": "code",
   "execution_count": 9,
   "id": "4aa24ca6-a265-486d-9f0f-f59cbec5e17f",
   "metadata": {},
   "outputs": [],
   "source": [
    "s1.add(99)"
   ]
  },
  {
   "cell_type": "code",
   "execution_count": 10,
   "id": "36aa9491-b0ea-4d46-8d0f-b3c9844b99ab",
   "metadata": {},
   "outputs": [
    {
     "data": {
      "text/plain": [
       "{2, 3, 5, 6, 99, 'vishal'}"
      ]
     },
     "execution_count": 10,
     "metadata": {},
     "output_type": "execute_result"
    }
   ],
   "source": [
    "s1"
   ]
  },
  {
   "cell_type": "code",
   "execution_count": 12,
   "id": "3240d9e1-08ab-4b98-8516-46d13a93a17d",
   "metadata": {},
   "outputs": [
    {
     "ename": "TypeError",
     "evalue": "set.add() takes exactly one argument (3 given)",
     "output_type": "error",
     "traceback": [
      "\u001b[0;31m---------------------------------------------------------------------------\u001b[0m",
      "\u001b[0;31mTypeError\u001b[0m                                 Traceback (most recent call last)",
      "Cell \u001b[0;32mIn[12], line 1\u001b[0m\n\u001b[0;32m----> 1\u001b[0m \u001b[43ms1\u001b[49m\u001b[38;5;241;43m.\u001b[39;49m\u001b[43madd\u001b[49m\u001b[43m(\u001b[49m\u001b[38;5;241;43m3\u001b[39;49m\u001b[43m,\u001b[49m\u001b[38;5;124;43m\"\u001b[39;49m\u001b[38;5;124;43mmohan\u001b[39;49m\u001b[38;5;124;43m\"\u001b[39;49m\u001b[43m,\u001b[49m\u001b[38;5;241;43m125.8\u001b[39;49m\u001b[43m)\u001b[49m\n",
      "\u001b[0;31mTypeError\u001b[0m: set.add() takes exactly one argument (3 given)"
     ]
    }
   ],
   "source": [
    "s1.add(3,\"mohan\",125.8)"
   ]
  },
  {
   "cell_type": "code",
   "execution_count": 13,
   "id": "c8f31f44-b6d6-4bb6-9543-8264f21f9a52",
   "metadata": {},
   "outputs": [
    {
     "ename": "TypeError",
     "evalue": "set.add() takes exactly one argument (2 given)",
     "output_type": "error",
     "traceback": [
      "\u001b[0;31m---------------------------------------------------------------------------\u001b[0m",
      "\u001b[0;31mTypeError\u001b[0m                                 Traceback (most recent call last)",
      "Cell \u001b[0;32mIn[13], line 1\u001b[0m\n\u001b[0;32m----> 1\u001b[0m \u001b[43ms1\u001b[49m\u001b[38;5;241;43m.\u001b[39;49m\u001b[43madd\u001b[49m\u001b[43m(\u001b[49m\u001b[38;5;124;43m\"\u001b[39;49m\u001b[38;5;124;43mmohan\u001b[39;49m\u001b[38;5;124;43m\"\u001b[39;49m\u001b[43m,\u001b[49m\u001b[38;5;124;43m\"\u001b[39;49m\u001b[38;5;124;43msohan\u001b[39;49m\u001b[38;5;124;43m\"\u001b[39;49m\u001b[43m)\u001b[49m\n",
      "\u001b[0;31mTypeError\u001b[0m: set.add() takes exactly one argument (2 given)"
     ]
    }
   ],
   "source": [
    "s1.add(\"mohan\",\"sohan\")"
   ]
  },
  {
   "cell_type": "code",
   "execution_count": 14,
   "id": "f359029b-db3b-413b-a7dd-915fa63b8ffc",
   "metadata": {},
   "outputs": [],
   "source": [
    "s1.add(\"mohan\")"
   ]
  },
  {
   "cell_type": "code",
   "execution_count": 15,
   "id": "68d92dfc-c10d-4764-ab47-c714b6bd72d9",
   "metadata": {},
   "outputs": [
    {
     "data": {
      "text/plain": [
       "{2, 3, 5, 6, 99, 'mohan', 'vishal'}"
      ]
     },
     "execution_count": 15,
     "metadata": {},
     "output_type": "execute_result"
    }
   ],
   "source": [
    "s1"
   ]
  },
  {
   "cell_type": "code",
   "execution_count": 16,
   "id": "e797da4b-9253-4603-a04a-b4ae0619d246",
   "metadata": {},
   "outputs": [],
   "source": [
    "s1.add((43,5,\"bhart\",962.24))   #set ke andar tuple ho jayega"
   ]
  },
  {
   "cell_type": "code",
   "execution_count": 17,
   "id": "679e461d-c609-4a95-95f2-ad8f04bbe26f",
   "metadata": {},
   "outputs": [
    {
     "data": {
      "text/plain": [
       "{(43, 5, 'bhart', 962.24), 2, 3, 5, 6, 99, 'mohan', 'vishal'}"
      ]
     },
     "execution_count": 17,
     "metadata": {},
     "output_type": "execute_result"
    }
   ],
   "source": [
    "s1"
   ]
  },
  {
   "cell_type": "code",
   "execution_count": 18,
   "id": "9a8191ee-815b-4045-b917-ba864d3f2288",
   "metadata": {},
   "outputs": [
    {
     "ename": "TypeError",
     "evalue": "unhashable type: 'list'",
     "output_type": "error",
     "traceback": [
      "\u001b[0;31m---------------------------------------------------------------------------\u001b[0m",
      "\u001b[0;31mTypeError\u001b[0m                                 Traceback (most recent call last)",
      "Cell \u001b[0;32mIn[18], line 1\u001b[0m\n\u001b[0;32m----> 1\u001b[0m \u001b[43ms1\u001b[49m\u001b[38;5;241;43m.\u001b[39;49m\u001b[43madd\u001b[49m\u001b[43m(\u001b[49m\u001b[43m[\u001b[49m\u001b[38;5;241;43m4\u001b[39;49m\u001b[43m,\u001b[49m\u001b[38;5;241;43m2\u001b[39;49m\u001b[43m]\u001b[49m\u001b[43m)\u001b[49m\n",
      "\u001b[0;31mTypeError\u001b[0m: unhashable type: 'list'"
     ]
    }
   ],
   "source": [
    "s1.add([4,2])   #set ke andar list ni jaywga"
   ]
  },
  {
   "cell_type": "code",
   "execution_count": 19,
   "id": "62b081c8-9c1b-4631-98db-6929e48a9c5e",
   "metadata": {},
   "outputs": [
    {
     "ename": "TypeError",
     "evalue": "unhashable type: 'set'",
     "output_type": "error",
     "traceback": [
      "\u001b[0;31m---------------------------------------------------------------------------\u001b[0m",
      "\u001b[0;31mTypeError\u001b[0m                                 Traceback (most recent call last)",
      "Cell \u001b[0;32mIn[19], line 1\u001b[0m\n\u001b[0;32m----> 1\u001b[0m \u001b[43ms1\u001b[49m\u001b[38;5;241;43m.\u001b[39;49m\u001b[43madd\u001b[49m\u001b[43m(\u001b[49m\u001b[43m{\u001b[49m\u001b[38;5;241;43m1\u001b[39;49m\u001b[43m,\u001b[49m\u001b[38;5;241;43m4\u001b[39;49m\u001b[43m}\u001b[49m\u001b[43m)\u001b[49m\n",
      "\u001b[0;31mTypeError\u001b[0m: unhashable type: 'set'"
     ]
    }
   ],
   "source": [
    "s1.add({1,4})    #set ke andar set ni jayega"
   ]
  },
  {
   "cell_type": "code",
   "execution_count": 20,
   "id": "2298744f-e910-43c4-925a-e73193f54236",
   "metadata": {},
   "outputs": [
    {
     "data": {
      "text/plain": [
       "{(43, 5, 'bhart', 962.24), 2, 3, 5, 6, 99, 'mohan', 'vishal'}"
      ]
     },
     "execution_count": 20,
     "metadata": {},
     "output_type": "execute_result"
    }
   ],
   "source": [
    "s1"
   ]
  },
  {
   "cell_type": "code",
   "execution_count": 21,
   "id": "afb772ed-d822-4f61-bdbb-7e5427581d6f",
   "metadata": {},
   "outputs": [
    {
     "data": {
      "text/plain": [
       "set"
      ]
     },
     "execution_count": 21,
     "metadata": {},
     "output_type": "execute_result"
    }
   ],
   "source": [
    "type(s1)"
   ]
  },
  {
   "cell_type": "code",
   "execution_count": 22,
   "id": "a0127ebd-fdfb-4083-be5f-0a4e3eaefc49",
   "metadata": {},
   "outputs": [
    {
     "data": {
      "text/plain": [
       "[2, 3, 'vishal', 5, 6, 99, 'mohan', (43, 5, 'bhart', 962.24)]"
      ]
     },
     "execution_count": 22,
     "metadata": {},
     "output_type": "execute_result"
    }
   ],
   "source": [
    "list(s1)"
   ]
  },
  {
   "cell_type": "code",
   "execution_count": 23,
   "id": "e79d92f2-3999-443b-96a1-2bf798bdc317",
   "metadata": {},
   "outputs": [
    {
     "data": {
      "text/plain": [
       "set"
      ]
     },
     "execution_count": 23,
     "metadata": {},
     "output_type": "execute_result"
    }
   ],
   "source": [
    "type(s1)"
   ]
  },
  {
   "cell_type": "code",
   "execution_count": 24,
   "id": "e5dbc1e0-caf2-4c23-a8dd-c8e484081428",
   "metadata": {},
   "outputs": [
    {
     "data": {
      "text/plain": [
       "(2, 3, 'vishal', 5, 6, 99, 'mohan', (43, 5, 'bhart', 962.24))"
      ]
     },
     "execution_count": 24,
     "metadata": {},
     "output_type": "execute_result"
    }
   ],
   "source": [
    "tuple(s1)"
   ]
  },
  {
   "cell_type": "code",
   "execution_count": 25,
   "id": "8e7daac3-e91e-46fc-9096-2b582c469059",
   "metadata": {},
   "outputs": [
    {
     "data": {
      "text/plain": [
       "set"
      ]
     },
     "execution_count": 25,
     "metadata": {},
     "output_type": "execute_result"
    }
   ],
   "source": [
    "type(s1)"
   ]
  },
  {
   "cell_type": "code",
   "execution_count": 26,
   "id": "a666174f-7c9a-45ea-bc3c-9791adcb8655",
   "metadata": {},
   "outputs": [
    {
     "data": {
      "text/plain": [
       "[2, 3, 99, 5, 6, 'mohan', 'vishal', (43, 5, 'bhart', 962.24)]"
      ]
     },
     "execution_count": 26,
     "metadata": {},
     "output_type": "execute_result"
    }
   ],
   "source": [
    "list(set(s1))"
   ]
  },
  {
   "cell_type": "code",
   "execution_count": 27,
   "id": "6f6a9956-2bdf-46e6-ab7b-64caeb0f6cf6",
   "metadata": {},
   "outputs": [
    {
     "data": {
      "text/plain": [
       "set"
      ]
     },
     "execution_count": 27,
     "metadata": {},
     "output_type": "execute_result"
    }
   ],
   "source": [
    "type(s1)"
   ]
  },
  {
   "cell_type": "code",
   "execution_count": 28,
   "id": "2719586f-1bc8-4a0e-92b2-dd26d9959734",
   "metadata": {},
   "outputs": [
    {
     "data": {
      "text/plain": [
       "{(43, 5, 'bhart', 962.24), 2, 3, 5, 6, 99, 'mohan', 'vishal'}"
      ]
     },
     "execution_count": 28,
     "metadata": {},
     "output_type": "execute_result"
    }
   ],
   "source": [
    "s1"
   ]
  },
  {
   "cell_type": "code",
   "execution_count": 29,
   "id": "3177db95-9b69-442a-92b5-041b5376b56e",
   "metadata": {},
   "outputs": [],
   "source": [
    "l1=[2,3,3,3,3,\"ram\",245.02]"
   ]
  },
  {
   "cell_type": "code",
   "execution_count": 30,
   "id": "1b3434e6-56c9-4c30-8074-e1be4bfed4b5",
   "metadata": {},
   "outputs": [
    {
     "data": {
      "text/plain": [
       "list"
      ]
     },
     "execution_count": 30,
     "metadata": {},
     "output_type": "execute_result"
    }
   ],
   "source": [
    "type(l1)"
   ]
  },
  {
   "cell_type": "code",
   "execution_count": 37,
   "id": "8917a715-5bb5-4cfc-ae1a-c3f2c335acda",
   "metadata": {},
   "outputs": [
    {
     "data": {
      "text/plain": [
       "{2, 245.02, 3, 'ram'}"
      ]
     },
     "execution_count": 37,
     "metadata": {},
     "output_type": "execute_result"
    }
   ],
   "source": [
    "set(l1)  #duplicacy remove"
   ]
  },
  {
   "cell_type": "code",
   "execution_count": 32,
   "id": "1285b3d2-0a71-494e-b478-e7b43bf7f888",
   "metadata": {},
   "outputs": [
    {
     "data": {
      "text/plain": [
       "list"
      ]
     },
     "execution_count": 32,
     "metadata": {},
     "output_type": "execute_result"
    }
   ],
   "source": [
    "type(l1)"
   ]
  },
  {
   "cell_type": "code",
   "execution_count": 34,
   "id": "d648a556-b86e-4457-90d0-19882d4233e0",
   "metadata": {},
   "outputs": [
    {
     "data": {
      "text/plain": [
       "['ram', 2, 3, 245.02]"
      ]
     },
     "execution_count": 34,
     "metadata": {},
     "output_type": "execute_result"
    }
   ],
   "source": [
    "list(set(l1))"
   ]
  },
  {
   "cell_type": "code",
   "execution_count": 38,
   "id": "0c9eea00-5367-4833-90d4-6c7f227c57e5",
   "metadata": {},
   "outputs": [
    {
     "data": {
      "text/plain": [
       "{(43, 5, 'bhart', 962.24), 2, 3, 5, 6, 99, 'mohan', 'vishal'}"
      ]
     },
     "execution_count": 38,
     "metadata": {},
     "output_type": "execute_result"
    }
   ],
   "source": [
    "s1"
   ]
  },
  {
   "cell_type": "code",
   "execution_count": 39,
   "id": "6544a22a-93fa-4dab-a3fb-083c3ee6787b",
   "metadata": {},
   "outputs": [
    {
     "data": {
      "text/plain": [
       "[2, 3, 3, 3, 3, 'ram', 245.02]"
      ]
     },
     "execution_count": 39,
     "metadata": {},
     "output_type": "execute_result"
    }
   ],
   "source": [
    "l1"
   ]
  },
  {
   "cell_type": "code",
   "execution_count": 41,
   "id": "b75547a3-6116-4219-b477-e8a61f27a7a7",
   "metadata": {},
   "outputs": [],
   "source": [
    "s1.clear()"
   ]
  },
  {
   "cell_type": "code",
   "execution_count": 42,
   "id": "ac08db45-4354-48a1-bb68-33669b10e33c",
   "metadata": {},
   "outputs": [
    {
     "data": {
      "text/plain": [
       "set()"
      ]
     },
     "execution_count": 42,
     "metadata": {},
     "output_type": "execute_result"
    }
   ],
   "source": [
    "s1"
   ]
  },
  {
   "cell_type": "code",
   "execution_count": 43,
   "id": "0e0e5999-f736-4533-b472-3190a2964fae",
   "metadata": {},
   "outputs": [],
   "source": [
    "l1.clear()"
   ]
  },
  {
   "cell_type": "code",
   "execution_count": 44,
   "id": "dc19ed73-81c0-4069-808a-ddb5b0217918",
   "metadata": {},
   "outputs": [
    {
     "data": {
      "text/plain": [
       "[]"
      ]
     },
     "execution_count": 44,
     "metadata": {},
     "output_type": "execute_result"
    }
   ],
   "source": [
    "l1"
   ]
  }
 ],
 "metadata": {
  "kernelspec": {
   "display_name": "Python 3 (ipykernel)",
   "language": "python",
   "name": "python3"
  },
  "language_info": {
   "codemirror_mode": {
    "name": "ipython",
    "version": 3
   },
   "file_extension": ".py",
   "mimetype": "text/x-python",
   "name": "python",
   "nbconvert_exporter": "python",
   "pygments_lexer": "ipython3",
   "version": "3.10.8"
  }
 },
 "nbformat": 4,
 "nbformat_minor": 5
}
